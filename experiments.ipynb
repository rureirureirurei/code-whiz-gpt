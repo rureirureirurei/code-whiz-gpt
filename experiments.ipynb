{
 "cells": [
  {
   "cell_type": "code",
   "execution_count": 131,
   "id": "51f27082-f83c-4b0a-b3ab-0b54c34ef803",
   "metadata": {
    "tags": []
   },
   "outputs": [
    {
     "name": "stdout",
     "output_type": "stream",
     "text": [
      "I'd like you to help me with my programming project.\n",
      "Make your answer AS CONCISE AS POSSIBLEMy projects files are {'warden-test/logger.py': 'from datetime import datetime\\n\\n\\nclass Logger:\\n    def __init__(self, logfile_path=\\'logs\\'):\\n        self.path = logfile_path\\n        pass\\n\\n    def log(self, message):\\n        time = datetime.now().strftime(\"%Y-%m-%d %H:%M:%S.%f\")[:-3]\\n        message = time + \": \" + message + \\'\\\\n\\'\\n        with open(self.path, \\'a\\') as f:\\n            f.write(message)\\n        print(message)\\n', 'warden-test/README.md': \"# warden\\nAuto-transfer funds from multiple eth/arbitrum accounts.\\n\\n# Usage\\n\\n1) Firstly, you'll have to create a `config.py` file. \\n\\n`request_delay_seconds` sets how often the script checks for balance updates for each account. \\n\\n`arbitrum_api_key` can be left unchanged.\\n\\n`infura_api_key` should be set to your own value.\\n\\nHere's an example:\\n```\\naccounts = [\\n    {\\n        'network': 'arbitrum',\\n        'arbitrum_api_key': 'https://arb1.arbitrum.io/rpc',\\n        'private_key': '1234567890123456789012345678901234567890123456789012345678901234',\\n        'public_key': '0x1234567890123456789012345678901234567890',\\n        'receiver': '0x1234567890123456789012345678901234567890',\\n        'request_delay_seconds': 1,\\n    },\\n    {\\n        'network': 'eth',\\n        'infura_api_key': 'https://mainnet.infura.io/v3/some_code_here',\\n        'private_key': '1234567890123456789012345678901234567890123456789012345678901234',\\n        'public_key': '0x1234567890123456789012345678901234567890',\\n        'receiver': '0x1234567890123456789012345678901234567890',\\n        'request_delay_seconds': 2,\\n    },\\n]\\n```\\n\\n2) Install dependencies:\\n`pip install web3 multiprocess`\\n\\n3) Run the script\\n`python3 main.py`\\n\", 'warden-test/main.py': 'from eth.warden import Warden as ethWarden\\nfrom arbitrum.warden import Warden as arbitrumWarden\\n\\nfrom logger import Logger\\nfrom config import accounts\\n\\nimport multiprocess as mp\\n\\nif __name__ == \\'__main__\\':\\n    watchers = []\\n    for account in accounts:\\n        network = account[\\'network\\']\\n\\n        if network == \\'eth\\':\\n            watcher = ethWarden(account)\\n        elif network == \\'arbitrum\\':\\n            watcher = arbitrumWarden(account)\\n        else:\\n            raise Exception(f\"{account[\\'network\\']} is not supported\")\\n\\n        def start(w):\\n            try:\\n                w.watch()\\n            except Exception as e:\\n                message = \"Exception:\\\\n\" + str(e)\\n                Logger().log(message)\\n\\n        p = mp.Process(target=start, args=(watcher,))\\n        p.start()\\n        watchers.append(p)\\n\\n', 'warden-test/arbitrum/sender.py': \"from logger import Logger\\n\\n\\nclass Sender:\\n    def __init__(self, w3):\\n        self.w3 = w3\\n\\n    def send(self, private_key, public_key, receiver, value, gas, intrinsic=21000):\\n        try:\\n            nonce = self.w3.eth.get_transaction_count(public_key)\\n            tx = {\\n                'nonce': nonce,\\n                'to': receiver,\\n                'value': value,\\n                'gas': intrinsic,\\n                'gasPrice': gas,\\n            }\\n\\n            signed_tx = self.w3.eth.account.sign_transaction(tx, private_key)\\n            tx_hash = self.w3.eth.send_raw_transaction(signed_tx.rawTransaction)\\n            message = f'\\\\nSent {value} wei\\\\nfrom {public_key} to {receiver}\\\\nwith gas {gas}\\\\ntx hash: {tx_hash}'\\n        except Exception as e:\\n            message = f'\\\\nTried to send {value} wei\\\\nfrom {public_key} to {receiver}\\\\nwith gas {gas}\\\\nbut caught exeption:\\\\n' + str(e)\\n        Logger().log(message)\\n\\n    def send_max(self, private_key, public_key, receiver):\\n        balance = self.w3.eth.get_balance(public_key)\\n\\n        gas = self.w3.to_wei('110000000', 'wei')\\n        intrinsic = self.w3.to_wei('800000', 'wei')\\n        epsilon = self.w3.to_wei('90000', 'gwei')\\n        available = balance - gas - epsilon\\n\\n        self.send(private_key, public_key, receiver, available, gas, intrinsic)\\n\", 'warden-test/arbitrum/warden.py': 'from web3 import Web3\\nimport time\\nfrom logger import Logger\\nfrom arbitrum.sender import Sender\\n\\n\\nclass Warden:\\n    def __init__(self, account):\\n        # Connect to Ethereum network using Web3.py\\n        self.private_key = account[\\'private_key\\']\\n        self.public_key = account[\\'public_key\\']\\n        self.receiver = account[\\'receiver\\']\\n        self.delay = account[\\'request_delay_seconds\\']\\n        self.w3 = Web3(Web3.HTTPProvider(account[\\'arbitrum_api_key\\']))\\n        self.network = \\'arbitrum\\'\\n\\n    def watch(self):\\n        def balance_now():\\n            return self.w3.from_wei(self.w3.eth.get_balance(self.public_key), \\'ether\\')\\n\\n        balance = balance_now()\\n        Logger().log(f\"Started watching {self.public_key} with {balance_now()} eth on the network {self.network}.\")\\n\\n        while True:\\n            current = balance_now()\\n            if current != balance:\\n                Logger().log(\\n                    f\\'\\\\n{self.public_key} \\\\\\'s balance has changed!\\\\n{balance} eth -> {current} eth\\')\\n                Sender(self.w3).send_max(self.private_key, self.public_key, self.receiver)\\n            time.sleep(self.delay)\\n            balance = current\\n'}Could you please Make it so Logger actually uses python's builtin logger?\n",
      "DO NOT OUTPUT NOTHING BUT A JSONCould you please give me updated files contents in json like I did?\n",
      "\n",
      "response:\n",
      "\n"
     ]
    },
    {
     "ename": "JSONDecodeError",
     "evalue": "Expecting value: line 1 column 1 (char 0)",
     "output_type": "error",
     "traceback": [
      "\u001b[0;31m---------------------------------------------------------------------------\u001b[0m",
      "\u001b[0;31mJSONDecodeError\u001b[0m                           Traceback (most recent call last)",
      "Cell \u001b[0;32mIn[131], line 68\u001b[0m\n\u001b[1;32m     66\u001b[0m \u001b[38;5;28mprint\u001b[39m(\u001b[38;5;124m\"\u001b[39m\u001b[38;5;130;01m\\n\u001b[39;00m\u001b[38;5;124mresponse:\u001b[39m\u001b[38;5;124m\"\u001b[39m)\n\u001b[1;32m     67\u001b[0m \u001b[38;5;28mprint\u001b[39m(ans)\n\u001b[0;32m---> 68\u001b[0m ans_dict \u001b[38;5;241m=\u001b[39m \u001b[43mjson\u001b[49m\u001b[38;5;241;43m.\u001b[39;49m\u001b[43mloads\u001b[49m\u001b[43m(\u001b[49m\u001b[43mans\u001b[49m\u001b[43m)\u001b[49m\n\u001b[1;32m     70\u001b[0m \u001b[38;5;28;01mfor\u001b[39;00m file_path, contents \u001b[38;5;129;01min\u001b[39;00m ans_dict\u001b[38;5;241m.\u001b[39mitems():\n\u001b[1;32m     71\u001b[0m     \u001b[38;5;28mprint\u001b[39m(file_path)\n",
      "File \u001b[0;32m/opt/homebrew/Caskroom/miniconda/base/envs/ml/lib/python3.9/json/__init__.py:346\u001b[0m, in \u001b[0;36mloads\u001b[0;34m(s, cls, object_hook, parse_float, parse_int, parse_constant, object_pairs_hook, **kw)\u001b[0m\n\u001b[1;32m    341\u001b[0m     s \u001b[38;5;241m=\u001b[39m s\u001b[38;5;241m.\u001b[39mdecode(detect_encoding(s), \u001b[38;5;124m'\u001b[39m\u001b[38;5;124msurrogatepass\u001b[39m\u001b[38;5;124m'\u001b[39m)\n\u001b[1;32m    343\u001b[0m \u001b[38;5;28;01mif\u001b[39;00m (\u001b[38;5;28mcls\u001b[39m \u001b[38;5;129;01mis\u001b[39;00m \u001b[38;5;28;01mNone\u001b[39;00m \u001b[38;5;129;01mand\u001b[39;00m object_hook \u001b[38;5;129;01mis\u001b[39;00m \u001b[38;5;28;01mNone\u001b[39;00m \u001b[38;5;129;01mand\u001b[39;00m\n\u001b[1;32m    344\u001b[0m         parse_int \u001b[38;5;129;01mis\u001b[39;00m \u001b[38;5;28;01mNone\u001b[39;00m \u001b[38;5;129;01mand\u001b[39;00m parse_float \u001b[38;5;129;01mis\u001b[39;00m \u001b[38;5;28;01mNone\u001b[39;00m \u001b[38;5;129;01mand\u001b[39;00m\n\u001b[1;32m    345\u001b[0m         parse_constant \u001b[38;5;129;01mis\u001b[39;00m \u001b[38;5;28;01mNone\u001b[39;00m \u001b[38;5;129;01mand\u001b[39;00m object_pairs_hook \u001b[38;5;129;01mis\u001b[39;00m \u001b[38;5;28;01mNone\u001b[39;00m \u001b[38;5;129;01mand\u001b[39;00m \u001b[38;5;129;01mnot\u001b[39;00m kw):\n\u001b[0;32m--> 346\u001b[0m     \u001b[38;5;28;01mreturn\u001b[39;00m \u001b[43m_default_decoder\u001b[49m\u001b[38;5;241;43m.\u001b[39;49m\u001b[43mdecode\u001b[49m\u001b[43m(\u001b[49m\u001b[43ms\u001b[49m\u001b[43m)\u001b[49m\n\u001b[1;32m    347\u001b[0m \u001b[38;5;28;01mif\u001b[39;00m \u001b[38;5;28mcls\u001b[39m \u001b[38;5;129;01mis\u001b[39;00m \u001b[38;5;28;01mNone\u001b[39;00m:\n\u001b[1;32m    348\u001b[0m     \u001b[38;5;28mcls\u001b[39m \u001b[38;5;241m=\u001b[39m JSONDecoder\n",
      "File \u001b[0;32m/opt/homebrew/Caskroom/miniconda/base/envs/ml/lib/python3.9/json/decoder.py:337\u001b[0m, in \u001b[0;36mJSONDecoder.decode\u001b[0;34m(self, s, _w)\u001b[0m\n\u001b[1;32m    332\u001b[0m \u001b[38;5;28;01mdef\u001b[39;00m \u001b[38;5;21mdecode\u001b[39m(\u001b[38;5;28mself\u001b[39m, s, _w\u001b[38;5;241m=\u001b[39mWHITESPACE\u001b[38;5;241m.\u001b[39mmatch):\n\u001b[1;32m    333\u001b[0m \u001b[38;5;250m    \u001b[39m\u001b[38;5;124;03m\"\"\"Return the Python representation of ``s`` (a ``str`` instance\u001b[39;00m\n\u001b[1;32m    334\u001b[0m \u001b[38;5;124;03m    containing a JSON document).\u001b[39;00m\n\u001b[1;32m    335\u001b[0m \n\u001b[1;32m    336\u001b[0m \u001b[38;5;124;03m    \"\"\"\u001b[39;00m\n\u001b[0;32m--> 337\u001b[0m     obj, end \u001b[38;5;241m=\u001b[39m \u001b[38;5;28;43mself\u001b[39;49m\u001b[38;5;241;43m.\u001b[39;49m\u001b[43mraw_decode\u001b[49m\u001b[43m(\u001b[49m\u001b[43ms\u001b[49m\u001b[43m,\u001b[49m\u001b[43m \u001b[49m\u001b[43midx\u001b[49m\u001b[38;5;241;43m=\u001b[39;49m\u001b[43m_w\u001b[49m\u001b[43m(\u001b[49m\u001b[43ms\u001b[49m\u001b[43m,\u001b[49m\u001b[43m \u001b[49m\u001b[38;5;241;43m0\u001b[39;49m\u001b[43m)\u001b[49m\u001b[38;5;241;43m.\u001b[39;49m\u001b[43mend\u001b[49m\u001b[43m(\u001b[49m\u001b[43m)\u001b[49m\u001b[43m)\u001b[49m\n\u001b[1;32m    338\u001b[0m     end \u001b[38;5;241m=\u001b[39m _w(s, end)\u001b[38;5;241m.\u001b[39mend()\n\u001b[1;32m    339\u001b[0m     \u001b[38;5;28;01mif\u001b[39;00m end \u001b[38;5;241m!=\u001b[39m \u001b[38;5;28mlen\u001b[39m(s):\n",
      "File \u001b[0;32m/opt/homebrew/Caskroom/miniconda/base/envs/ml/lib/python3.9/json/decoder.py:355\u001b[0m, in \u001b[0;36mJSONDecoder.raw_decode\u001b[0;34m(self, s, idx)\u001b[0m\n\u001b[1;32m    353\u001b[0m     obj, end \u001b[38;5;241m=\u001b[39m \u001b[38;5;28mself\u001b[39m\u001b[38;5;241m.\u001b[39mscan_once(s, idx)\n\u001b[1;32m    354\u001b[0m \u001b[38;5;28;01mexcept\u001b[39;00m \u001b[38;5;167;01mStopIteration\u001b[39;00m \u001b[38;5;28;01mas\u001b[39;00m err:\n\u001b[0;32m--> 355\u001b[0m     \u001b[38;5;28;01mraise\u001b[39;00m JSONDecodeError(\u001b[38;5;124m\"\u001b[39m\u001b[38;5;124mExpecting value\u001b[39m\u001b[38;5;124m\"\u001b[39m, s, err\u001b[38;5;241m.\u001b[39mvalue) \u001b[38;5;28;01mfrom\u001b[39;00m \u001b[38;5;28;01mNone\u001b[39;00m\n\u001b[1;32m    356\u001b[0m \u001b[38;5;28;01mreturn\u001b[39;00m obj, end\n",
      "\u001b[0;31mJSONDecodeError\u001b[0m: Expecting value: line 1 column 1 (char 0)"
     ]
    }
   ],
   "source": [
    "import openai\n",
    "import os\n",
    "import json\n",
    "from key import OPENAI_API_KEY\n",
    "\n",
    "openai.api_key = OPENAI_API_KEY\n",
    "\n",
    "def generate_response(prompt):\n",
    "    completions = openai.Completion.create(\n",
    "        engine=\"text-davinci-003\",\n",
    "        prompt=prompt,\n",
    "        max_tokens=2048,\n",
    "        n=1,\n",
    "        stop=None,\n",
    "        temperature=0,\n",
    "    )\n",
    "\n",
    "    message = completions.choices[0].text\n",
    "    return message.strip()\n",
    "\n",
    "def copy_dir(a):\n",
    "    a = a.split(\"/\")\n",
    "    a[0] = 'new-' + a[0]\n",
    "    a = \"/\".join(a)\n",
    "    return a\n",
    "\n",
    "def get_files_contents(path):\n",
    "    files = {}\n",
    "    ignored_ext = ['.pyc', '.git', '.jpg', '.xml', '.iml', '.sample', '']\n",
    "    for dirpath, dirnames, filenames in os.walk(path):\n",
    "        for filename in filenames:\n",
    "            _, ext = os.path.splitext(filename)\n",
    "            if ext.lower() not in ignored_ext:\n",
    "                file_path = os.path.join(dirpath, filename)\n",
    "                with open(file_path, 'r') as f:\n",
    "                    contents = f.read()\n",
    "                files[file_path] = contents\n",
    "    return files\n",
    "\n",
    "\n",
    "def gen_prompt(query, files_contents):\n",
    "    example_input = \"query: 'fix typos and errors in all files'\" \\\n",
    "            \"files: {'file1.py': 'import os\\na=10\\nprintln a'\" \\\n",
    "            \"'test/file2.py': 'import os\\nb=20\\nprintln b+ 3'}\"\n",
    "    example_output = \"{'note': 'The main issue with your code is that it uses println instead of print, which is not a valid Python function. Additionally, you need to include parentheses around the variable you want to print. I have corrected these mistakes in the above code.',\" \\\n",
    "            \"'file1.py': 'import os\\na=10\\nprint(a)',\" \\\n",
    "            \"'test/file2.py': 'import os\\nb=20\\nprint(b+3)'}\"\n",
    "    \n",
    "    res = f\"I'd like you to help me with my programming project.\\n\" \\\n",
    "            f\"Make your answer AS CONCISE AS POSSIBLE\" \\\n",
    "            f\"My projects files are {files_contents}\" \\\n",
    "            f\"Could you please {query}?\\n\" \\\n",
    "            f\"DO NOT OUTPUT NOTHING BUT A JSON\" \\\n",
    "            f\"Could you please give me updated files contents in json like I did?\"\n",
    "#            f\"DO NOT OUTPUT NOTHING BUT A JSON\" \\\n",
    "#            f\"Make your answer AS SHORT AS POSSIBLE\"\n",
    "    return res\n",
    "\n",
    "root = 'warden-test'\n",
    "query = \"Make it so Logger actually uses python's builtin logger\"\n",
    "files_contents = get_files_contents(root)\n",
    "prompt = gen_prompt(query, files_contents)\n",
    "print(prompt)\n",
    "\n",
    "ans = generate_response(prompt)\n",
    "print(\"\\nresponse:\")\n",
    "print(ans)\n",
    "ans_dict = json.loads(ans)\n",
    "\n",
    "for file_path, contents in ans_dict.items():\n",
    "    print(file_path)\n",
    "    print(contents)\n",
    "    with open(file_path, 'w') as f:\n",
    "        f.write(contents)"
   ]
  },
  {
   "cell_type": "code",
   "execution_count": 75,
   "id": "f7ff7999-f165-429e-b6d7-867559da0a32",
   "metadata": {
    "tags": []
   },
   "outputs": [
    {
     "data": {
      "text/plain": [
       "'new-test/cock/penis.py'"
      ]
     },
     "execution_count": 75,
     "metadata": {},
     "output_type": "execute_result"
    }
   ],
   "source": []
  },
  {
   "cell_type": "code",
   "execution_count": null,
   "id": "1d7a2414-3dd0-4ef1-be04-a8d381ac81b4",
   "metadata": {},
   "outputs": [],
   "source": []
  }
 ],
 "metadata": {
  "kernelspec": {
   "display_name": "Python 3 (ipykernel)",
   "language": "python",
   "name": "python3"
  },
  "language_info": {
   "codemirror_mode": {
    "name": "ipython",
    "version": 3
   },
   "file_extension": ".py",
   "mimetype": "text/x-python",
   "name": "python",
   "nbconvert_exporter": "python",
   "pygments_lexer": "ipython3",
   "version": "3.9.16"
  }
 },
 "nbformat": 4,
 "nbformat_minor": 5
}
